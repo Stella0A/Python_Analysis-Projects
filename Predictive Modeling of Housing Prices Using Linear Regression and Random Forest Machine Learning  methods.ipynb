{
 "cells": [
  {
   "cell_type": "code",
   "execution_count": 100,
   "id": "b2d2be87",
   "metadata": {},
   "outputs": [],
   "source": [
    "#importing relevant libraries\n",
    "import pandas as pd\n",
    "import os\n",
    "from sklearn.metrics import r2_score, mean_squared_error, mean_absolute_error\n",
    "import matplotlib.pyplot as plt\n",
    "plt.style.use('ggplot')"
   ]
  },
  {
   "cell_type": "code",
   "execution_count": 101,
   "id": "d6d3156d",
   "metadata": {},
   "outputs": [],
   "source": [
    "#changing the directory\n",
    "os.chdir(r\"C:\\Users\\HP\\OneDrive\\Documents\\MSC SCHOOL\\AI & DA\\Data\")"
   ]
  },
  {
   "cell_type": "code",
   "execution_count": 102,
   "id": "c322d949",
   "metadata": {},
   "outputs": [],
   "source": [
    "#reading the dataset\n",
    "test = pd.read_csv(\"msc_testing_dataset.csv\")"
   ]
  },
  {
   "cell_type": "code",
   "execution_count": 103,
   "id": "d619427d",
   "metadata": {},
   "outputs": [],
   "source": [
    "train = pd.read_csv(\"msc_training_dataset.csv\")"
   ]
  },
  {
   "cell_type": "code",
   "execution_count": 104,
   "id": "9fb94e84",
   "metadata": {},
   "outputs": [],
   "source": [
    "#creating a function to visualize the comparison between actual and predicted values\n",
    "def make_plot(truth, prediction):\n",
    "  plt.plot(truth, color=\"red\", label=\"truth\")\n",
    "  plt.plot(prediction, color=\"blue\", label=\"predicted\")\n",
    "  plt.legend()\n",
    "  plt.grid()\n",
    "  plt.title(\"Comparing truth and predicted regression values\")\n",
    "  plt.tight_layout()\n",
    "  plt.show()"
   ]
  },
  {
   "cell_type": "code",
   "execution_count": 6,
   "id": "4ed94d79",
   "metadata": {},
   "outputs": [
    {
     "data": {
      "text/html": [
       "<div>\n",
       "<style scoped>\n",
       "    .dataframe tbody tr th:only-of-type {\n",
       "        vertical-align: middle;\n",
       "    }\n",
       "\n",
       "    .dataframe tbody tr th {\n",
       "        vertical-align: top;\n",
       "    }\n",
       "\n",
       "    .dataframe thead th {\n",
       "        text-align: right;\n",
       "    }\n",
       "</style>\n",
       "<table border=\"1\" class=\"dataframe\">\n",
       "  <thead>\n",
       "    <tr style=\"text-align: right;\">\n",
       "      <th></th>\n",
       "      <th>room</th>\n",
       "      <th>bathroom</th>\n",
       "      <th>kitchen</th>\n",
       "      <th>french_door</th>\n",
       "      <th>backyard</th>\n",
       "      <th>furnished</th>\n",
       "      <th>green_paint</th>\n",
       "      <th>solar_power</th>\n",
       "      <th>woodfloor</th>\n",
       "      <th>qlm_security</th>\n",
       "      <th>club_access</th>\n",
       "      <th>price</th>\n",
       "    </tr>\n",
       "  </thead>\n",
       "  <tbody>\n",
       "    <tr>\n",
       "      <th>0</th>\n",
       "      <td>1</td>\n",
       "      <td>1</td>\n",
       "      <td>1</td>\n",
       "      <td>3</td>\n",
       "      <td>0</td>\n",
       "      <td>0</td>\n",
       "      <td>1</td>\n",
       "      <td>1</td>\n",
       "      <td>0</td>\n",
       "      <td>1</td>\n",
       "      <td>0</td>\n",
       "      <td>5068</td>\n",
       "    </tr>\n",
       "    <tr>\n",
       "      <th>1</th>\n",
       "      <td>5</td>\n",
       "      <td>1</td>\n",
       "      <td>1</td>\n",
       "      <td>2</td>\n",
       "      <td>0</td>\n",
       "      <td>0</td>\n",
       "      <td>0</td>\n",
       "      <td>0</td>\n",
       "      <td>0</td>\n",
       "      <td>1</td>\n",
       "      <td>1</td>\n",
       "      <td>7658</td>\n",
       "    </tr>\n",
       "    <tr>\n",
       "      <th>2</th>\n",
       "      <td>5</td>\n",
       "      <td>1</td>\n",
       "      <td>1</td>\n",
       "      <td>3</td>\n",
       "      <td>0</td>\n",
       "      <td>0</td>\n",
       "      <td>0</td>\n",
       "      <td>1</td>\n",
       "      <td>1</td>\n",
       "      <td>1</td>\n",
       "      <td>1</td>\n",
       "      <td>11318</td>\n",
       "    </tr>\n",
       "    <tr>\n",
       "      <th>3</th>\n",
       "      <td>4</td>\n",
       "      <td>2</td>\n",
       "      <td>2</td>\n",
       "      <td>1</td>\n",
       "      <td>0</td>\n",
       "      <td>1</td>\n",
       "      <td>1</td>\n",
       "      <td>0</td>\n",
       "      <td>0</td>\n",
       "      <td>1</td>\n",
       "      <td>0</td>\n",
       "      <td>8858</td>\n",
       "    </tr>\n",
       "    <tr>\n",
       "      <th>4</th>\n",
       "      <td>5</td>\n",
       "      <td>2</td>\n",
       "      <td>1</td>\n",
       "      <td>1</td>\n",
       "      <td>0</td>\n",
       "      <td>1</td>\n",
       "      <td>1</td>\n",
       "      <td>1</td>\n",
       "      <td>0</td>\n",
       "      <td>0</td>\n",
       "      <td>1</td>\n",
       "      <td>11178</td>\n",
       "    </tr>\n",
       "  </tbody>\n",
       "</table>\n",
       "</div>"
      ],
      "text/plain": [
       "   room  bathroom  kitchen  french_door  backyard  furnished  green_paint  \\\n",
       "0     1         1        1            3         0          0            1   \n",
       "1     5         1        1            2         0          0            0   \n",
       "2     5         1        1            3         0          0            0   \n",
       "3     4         2        2            1         0          1            1   \n",
       "4     5         2        1            1         0          1            1   \n",
       "\n",
       "   solar_power  woodfloor  qlm_security  club_access  price  \n",
       "0            1          0             1            0   5068  \n",
       "1            0          0             1            1   7658  \n",
       "2            1          1             1            1  11318  \n",
       "3            0          0             1            0   8858  \n",
       "4            1          0             0            1  11178  "
      ]
     },
     "execution_count": 6,
     "metadata": {},
     "output_type": "execute_result"
    }
   ],
   "source": [
    "# head() - It shows the first N rows in the data (by default, N=5).\n",
    "test.head()"
   ]
  },
  {
   "cell_type": "code",
   "execution_count": 7,
   "id": "f9a5c51f",
   "metadata": {},
   "outputs": [
    {
     "data": {
      "text/html": [
       "<div>\n",
       "<style scoped>\n",
       "    .dataframe tbody tr th:only-of-type {\n",
       "        vertical-align: middle;\n",
       "    }\n",
       "\n",
       "    .dataframe tbody tr th {\n",
       "        vertical-align: top;\n",
       "    }\n",
       "\n",
       "    .dataframe thead th {\n",
       "        text-align: right;\n",
       "    }\n",
       "</style>\n",
       "<table border=\"1\" class=\"dataframe\">\n",
       "  <thead>\n",
       "    <tr style=\"text-align: right;\">\n",
       "      <th></th>\n",
       "      <th>room</th>\n",
       "      <th>bathroom</th>\n",
       "      <th>kitchen</th>\n",
       "      <th>french_door</th>\n",
       "      <th>backyard</th>\n",
       "      <th>furnished</th>\n",
       "      <th>green_paint</th>\n",
       "      <th>solar_power</th>\n",
       "      <th>woodfloor</th>\n",
       "      <th>qlm_security</th>\n",
       "      <th>club_access</th>\n",
       "      <th>price</th>\n",
       "    </tr>\n",
       "  </thead>\n",
       "  <tbody>\n",
       "    <tr>\n",
       "      <th>0</th>\n",
       "      <td>3</td>\n",
       "      <td>1</td>\n",
       "      <td>2</td>\n",
       "      <td>1</td>\n",
       "      <td>1</td>\n",
       "      <td>0</td>\n",
       "      <td>1</td>\n",
       "      <td>0</td>\n",
       "      <td>0</td>\n",
       "      <td>1</td>\n",
       "      <td>1</td>\n",
       "      <td>6835</td>\n",
       "    </tr>\n",
       "    <tr>\n",
       "      <th>1</th>\n",
       "      <td>5</td>\n",
       "      <td>2</td>\n",
       "      <td>2</td>\n",
       "      <td>2</td>\n",
       "      <td>1</td>\n",
       "      <td>0</td>\n",
       "      <td>0</td>\n",
       "      <td>0</td>\n",
       "      <td>0</td>\n",
       "      <td>1</td>\n",
       "      <td>1</td>\n",
       "      <td>9005</td>\n",
       "    </tr>\n",
       "    <tr>\n",
       "      <th>2</th>\n",
       "      <td>5</td>\n",
       "      <td>2</td>\n",
       "      <td>2</td>\n",
       "      <td>2</td>\n",
       "      <td>1</td>\n",
       "      <td>0</td>\n",
       "      <td>0</td>\n",
       "      <td>0</td>\n",
       "      <td>0</td>\n",
       "      <td>1</td>\n",
       "      <td>1</td>\n",
       "      <td>9005</td>\n",
       "    </tr>\n",
       "    <tr>\n",
       "      <th>3</th>\n",
       "      <td>1</td>\n",
       "      <td>2</td>\n",
       "      <td>1</td>\n",
       "      <td>2</td>\n",
       "      <td>0</td>\n",
       "      <td>0</td>\n",
       "      <td>0</td>\n",
       "      <td>0</td>\n",
       "      <td>1</td>\n",
       "      <td>1</td>\n",
       "      <td>0</td>\n",
       "      <td>5105</td>\n",
       "    </tr>\n",
       "    <tr>\n",
       "      <th>4</th>\n",
       "      <td>2</td>\n",
       "      <td>1</td>\n",
       "      <td>2</td>\n",
       "      <td>3</td>\n",
       "      <td>1</td>\n",
       "      <td>1</td>\n",
       "      <td>0</td>\n",
       "      <td>0</td>\n",
       "      <td>1</td>\n",
       "      <td>1</td>\n",
       "      <td>0</td>\n",
       "      <td>9105</td>\n",
       "    </tr>\n",
       "  </tbody>\n",
       "</table>\n",
       "</div>"
      ],
      "text/plain": [
       "   room  bathroom  kitchen  french_door  backyard  furnished  green_paint  \\\n",
       "0     3         1        2            1         1          0            1   \n",
       "1     5         2        2            2         1          0            0   \n",
       "2     5         2        2            2         1          0            0   \n",
       "3     1         2        1            2         0          0            0   \n",
       "4     2         1        2            3         1          1            0   \n",
       "\n",
       "   solar_power  woodfloor  qlm_security  club_access  price  \n",
       "0            0          0             1            1   6835  \n",
       "1            0          0             1            1   9005  \n",
       "2            0          0             1            1   9005  \n",
       "3            0          1             1            0   5105  \n",
       "4            0          1             1            0   9105  "
      ]
     },
     "execution_count": 7,
     "metadata": {},
     "output_type": "execute_result"
    }
   ],
   "source": [
    "train.head()"
   ]
  },
  {
   "cell_type": "code",
   "execution_count": 8,
   "id": "746cdcc1",
   "metadata": {},
   "outputs": [
    {
     "data": {
      "text/html": [
       "<div>\n",
       "<style scoped>\n",
       "    .dataframe tbody tr th:only-of-type {\n",
       "        vertical-align: middle;\n",
       "    }\n",
       "\n",
       "    .dataframe tbody tr th {\n",
       "        vertical-align: top;\n",
       "    }\n",
       "\n",
       "    .dataframe thead th {\n",
       "        text-align: right;\n",
       "    }\n",
       "</style>\n",
       "<table border=\"1\" class=\"dataframe\">\n",
       "  <thead>\n",
       "    <tr style=\"text-align: right;\">\n",
       "      <th></th>\n",
       "      <th>room</th>\n",
       "      <th>bathroom</th>\n",
       "      <th>kitchen</th>\n",
       "      <th>french_door</th>\n",
       "      <th>backyard</th>\n",
       "      <th>furnished</th>\n",
       "      <th>green_paint</th>\n",
       "      <th>solar_power</th>\n",
       "      <th>woodfloor</th>\n",
       "      <th>qlm_security</th>\n",
       "      <th>club_access</th>\n",
       "      <th>price</th>\n",
       "    </tr>\n",
       "  </thead>\n",
       "  <tbody>\n",
       "    <tr>\n",
       "      <th>994</th>\n",
       "      <td>5</td>\n",
       "      <td>2</td>\n",
       "      <td>2</td>\n",
       "      <td>3</td>\n",
       "      <td>1</td>\n",
       "      <td>1</td>\n",
       "      <td>0</td>\n",
       "      <td>0</td>\n",
       "      <td>0</td>\n",
       "      <td>0</td>\n",
       "      <td>0</td>\n",
       "      <td>10088</td>\n",
       "    </tr>\n",
       "    <tr>\n",
       "      <th>995</th>\n",
       "      <td>5</td>\n",
       "      <td>1</td>\n",
       "      <td>2</td>\n",
       "      <td>3</td>\n",
       "      <td>1</td>\n",
       "      <td>1</td>\n",
       "      <td>0</td>\n",
       "      <td>0</td>\n",
       "      <td>0</td>\n",
       "      <td>0</td>\n",
       "      <td>0</td>\n",
       "      <td>9788</td>\n",
       "    </tr>\n",
       "    <tr>\n",
       "      <th>996</th>\n",
       "      <td>3</td>\n",
       "      <td>2</td>\n",
       "      <td>2</td>\n",
       "      <td>1</td>\n",
       "      <td>0</td>\n",
       "      <td>1</td>\n",
       "      <td>1</td>\n",
       "      <td>1</td>\n",
       "      <td>0</td>\n",
       "      <td>1</td>\n",
       "      <td>0</td>\n",
       "      <td>9388</td>\n",
       "    </tr>\n",
       "    <tr>\n",
       "      <th>997</th>\n",
       "      <td>3</td>\n",
       "      <td>2</td>\n",
       "      <td>1</td>\n",
       "      <td>1</td>\n",
       "      <td>1</td>\n",
       "      <td>0</td>\n",
       "      <td>0</td>\n",
       "      <td>1</td>\n",
       "      <td>1</td>\n",
       "      <td>0</td>\n",
       "      <td>0</td>\n",
       "      <td>8528</td>\n",
       "    </tr>\n",
       "    <tr>\n",
       "      <th>998</th>\n",
       "      <td>2</td>\n",
       "      <td>1</td>\n",
       "      <td>2</td>\n",
       "      <td>1</td>\n",
       "      <td>0</td>\n",
       "      <td>1</td>\n",
       "      <td>1</td>\n",
       "      <td>0</td>\n",
       "      <td>0</td>\n",
       "      <td>0</td>\n",
       "      <td>0</td>\n",
       "      <td>6118</td>\n",
       "    </tr>\n",
       "  </tbody>\n",
       "</table>\n",
       "</div>"
      ],
      "text/plain": [
       "     room  bathroom  kitchen  french_door  backyard  furnished  green_paint  \\\n",
       "994     5         2        2            3         1          1            0   \n",
       "995     5         1        2            3         1          1            0   \n",
       "996     3         2        2            1         0          1            1   \n",
       "997     3         2        1            1         1          0            0   \n",
       "998     2         1        2            1         0          1            1   \n",
       "\n",
       "     solar_power  woodfloor  qlm_security  club_access  price  \n",
       "994            0          0             0            0  10088  \n",
       "995            0          0             0            0   9788  \n",
       "996            1          0             1            0   9388  \n",
       "997            1          1             0            0   8528  \n",
       "998            0          0             0            0   6118  "
      ]
     },
     "execution_count": 8,
     "metadata": {},
     "output_type": "execute_result"
    }
   ],
   "source": [
    "# tail() - It shows the last N rows in the data (by default, N=5).\n",
    "test.tail()"
   ]
  },
  {
   "cell_type": "code",
   "execution_count": 9,
   "id": "e2db24ff",
   "metadata": {},
   "outputs": [
    {
     "data": {
      "text/html": [
       "<div>\n",
       "<style scoped>\n",
       "    .dataframe tbody tr th:only-of-type {\n",
       "        vertical-align: middle;\n",
       "    }\n",
       "\n",
       "    .dataframe tbody tr th {\n",
       "        vertical-align: top;\n",
       "    }\n",
       "\n",
       "    .dataframe thead th {\n",
       "        text-align: right;\n",
       "    }\n",
       "</style>\n",
       "<table border=\"1\" class=\"dataframe\">\n",
       "  <thead>\n",
       "    <tr style=\"text-align: right;\">\n",
       "      <th></th>\n",
       "      <th>room</th>\n",
       "      <th>bathroom</th>\n",
       "      <th>kitchen</th>\n",
       "      <th>french_door</th>\n",
       "      <th>backyard</th>\n",
       "      <th>furnished</th>\n",
       "      <th>green_paint</th>\n",
       "      <th>solar_power</th>\n",
       "      <th>woodfloor</th>\n",
       "      <th>qlm_security</th>\n",
       "      <th>club_access</th>\n",
       "      <th>price</th>\n",
       "    </tr>\n",
       "  </thead>\n",
       "  <tbody>\n",
       "    <tr>\n",
       "      <th>2995</th>\n",
       "      <td>1</td>\n",
       "      <td>1</td>\n",
       "      <td>2</td>\n",
       "      <td>1</td>\n",
       "      <td>1</td>\n",
       "      <td>0</td>\n",
       "      <td>0</td>\n",
       "      <td>1</td>\n",
       "      <td>0</td>\n",
       "      <td>0</td>\n",
       "      <td>0</td>\n",
       "      <td>4825</td>\n",
       "    </tr>\n",
       "    <tr>\n",
       "      <th>2996</th>\n",
       "      <td>1</td>\n",
       "      <td>1</td>\n",
       "      <td>2</td>\n",
       "      <td>3</td>\n",
       "      <td>0</td>\n",
       "      <td>1</td>\n",
       "      <td>1</td>\n",
       "      <td>0</td>\n",
       "      <td>0</td>\n",
       "      <td>1</td>\n",
       "      <td>1</td>\n",
       "      <td>6755</td>\n",
       "    </tr>\n",
       "    <tr>\n",
       "      <th>2997</th>\n",
       "      <td>2</td>\n",
       "      <td>2</td>\n",
       "      <td>1</td>\n",
       "      <td>2</td>\n",
       "      <td>0</td>\n",
       "      <td>0</td>\n",
       "      <td>1</td>\n",
       "      <td>1</td>\n",
       "      <td>1</td>\n",
       "      <td>0</td>\n",
       "      <td>0</td>\n",
       "      <td>7565</td>\n",
       "    </tr>\n",
       "    <tr>\n",
       "      <th>2998</th>\n",
       "      <td>4</td>\n",
       "      <td>1</td>\n",
       "      <td>1</td>\n",
       "      <td>2</td>\n",
       "      <td>1</td>\n",
       "      <td>1</td>\n",
       "      <td>1</td>\n",
       "      <td>0</td>\n",
       "      <td>0</td>\n",
       "      <td>0</td>\n",
       "      <td>1</td>\n",
       "      <td>9135</td>\n",
       "    </tr>\n",
       "    <tr>\n",
       "      <th>2999</th>\n",
       "      <td>4</td>\n",
       "      <td>2</td>\n",
       "      <td>1</td>\n",
       "      <td>1</td>\n",
       "      <td>0</td>\n",
       "      <td>0</td>\n",
       "      <td>0</td>\n",
       "      <td>1</td>\n",
       "      <td>1</td>\n",
       "      <td>0</td>\n",
       "      <td>0</td>\n",
       "      <td>8955</td>\n",
       "    </tr>\n",
       "  </tbody>\n",
       "</table>\n",
       "</div>"
      ],
      "text/plain": [
       "      room  bathroom  kitchen  french_door  backyard  furnished  green_paint  \\\n",
       "2995     1         1        2            1         1          0            0   \n",
       "2996     1         1        2            3         0          1            1   \n",
       "2997     2         2        1            2         0          0            1   \n",
       "2998     4         1        1            2         1          1            1   \n",
       "2999     4         2        1            1         0          0            0   \n",
       "\n",
       "      solar_power  woodfloor  qlm_security  club_access  price  \n",
       "2995            1          0             0            0   4825  \n",
       "2996            0          0             1            1   6755  \n",
       "2997            1          1             0            0   7565  \n",
       "2998            0          0             0            1   9135  \n",
       "2999            1          1             0            0   8955  "
      ]
     },
     "execution_count": 9,
     "metadata": {},
     "output_type": "execute_result"
    }
   ],
   "source": [
    "train.tail()"
   ]
  },
  {
   "cell_type": "code",
   "execution_count": 10,
   "id": "90d47440",
   "metadata": {},
   "outputs": [
    {
     "data": {
      "text/html": [
       "<div>\n",
       "<style scoped>\n",
       "    .dataframe tbody tr th:only-of-type {\n",
       "        vertical-align: middle;\n",
       "    }\n",
       "\n",
       "    .dataframe tbody tr th {\n",
       "        vertical-align: top;\n",
       "    }\n",
       "\n",
       "    .dataframe thead th {\n",
       "        text-align: right;\n",
       "    }\n",
       "</style>\n",
       "<table border=\"1\" class=\"dataframe\">\n",
       "  <thead>\n",
       "    <tr style=\"text-align: right;\">\n",
       "      <th></th>\n",
       "      <th>room</th>\n",
       "      <th>bathroom</th>\n",
       "      <th>kitchen</th>\n",
       "      <th>french_door</th>\n",
       "      <th>backyard</th>\n",
       "      <th>furnished</th>\n",
       "      <th>green_paint</th>\n",
       "      <th>solar_power</th>\n",
       "      <th>woodfloor</th>\n",
       "      <th>qlm_security</th>\n",
       "      <th>club_access</th>\n",
       "      <th>price</th>\n",
       "    </tr>\n",
       "  </thead>\n",
       "  <tbody>\n",
       "    <tr>\n",
       "      <th>count</th>\n",
       "      <td>999.000000</td>\n",
       "      <td>999.000000</td>\n",
       "      <td>999.000000</td>\n",
       "      <td>999.000000</td>\n",
       "      <td>999.000000</td>\n",
       "      <td>999.000000</td>\n",
       "      <td>999.000000</td>\n",
       "      <td>999.00000</td>\n",
       "      <td>999.000000</td>\n",
       "      <td>999.000000</td>\n",
       "      <td>999.000000</td>\n",
       "      <td>999.000000</td>\n",
       "    </tr>\n",
       "    <tr>\n",
       "      <th>mean</th>\n",
       "      <td>3.019019</td>\n",
       "      <td>1.491491</td>\n",
       "      <td>1.496496</td>\n",
       "      <td>1.959960</td>\n",
       "      <td>0.510511</td>\n",
       "      <td>0.474474</td>\n",
       "      <td>0.523524</td>\n",
       "      <td>0.49049</td>\n",
       "      <td>0.501502</td>\n",
       "      <td>0.500501</td>\n",
       "      <td>0.495495</td>\n",
       "      <td>8601.863864</td>\n",
       "    </tr>\n",
       "    <tr>\n",
       "      <th>std</th>\n",
       "      <td>1.413731</td>\n",
       "      <td>0.500178</td>\n",
       "      <td>0.500238</td>\n",
       "      <td>0.809759</td>\n",
       "      <td>0.500140</td>\n",
       "      <td>0.499598</td>\n",
       "      <td>0.499696</td>\n",
       "      <td>0.50016</td>\n",
       "      <td>0.500248</td>\n",
       "      <td>0.500250</td>\n",
       "      <td>0.500230</td>\n",
       "      <td>2217.898743</td>\n",
       "    </tr>\n",
       "    <tr>\n",
       "      <th>min</th>\n",
       "      <td>1.000000</td>\n",
       "      <td>1.000000</td>\n",
       "      <td>1.000000</td>\n",
       "      <td>1.000000</td>\n",
       "      <td>0.000000</td>\n",
       "      <td>0.000000</td>\n",
       "      <td>0.000000</td>\n",
       "      <td>0.00000</td>\n",
       "      <td>0.000000</td>\n",
       "      <td>0.000000</td>\n",
       "      <td>0.000000</td>\n",
       "      <td>2688.000000</td>\n",
       "    </tr>\n",
       "    <tr>\n",
       "      <th>25%</th>\n",
       "      <td>2.000000</td>\n",
       "      <td>1.000000</td>\n",
       "      <td>1.000000</td>\n",
       "      <td>1.000000</td>\n",
       "      <td>0.000000</td>\n",
       "      <td>0.000000</td>\n",
       "      <td>0.000000</td>\n",
       "      <td>0.00000</td>\n",
       "      <td>0.000000</td>\n",
       "      <td>0.000000</td>\n",
       "      <td>0.000000</td>\n",
       "      <td>7068.000000</td>\n",
       "    </tr>\n",
       "    <tr>\n",
       "      <th>50%</th>\n",
       "      <td>3.000000</td>\n",
       "      <td>1.000000</td>\n",
       "      <td>1.000000</td>\n",
       "      <td>2.000000</td>\n",
       "      <td>1.000000</td>\n",
       "      <td>0.000000</td>\n",
       "      <td>1.000000</td>\n",
       "      <td>0.00000</td>\n",
       "      <td>1.000000</td>\n",
       "      <td>1.000000</td>\n",
       "      <td>0.000000</td>\n",
       "      <td>8608.000000</td>\n",
       "    </tr>\n",
       "    <tr>\n",
       "      <th>75%</th>\n",
       "      <td>4.000000</td>\n",
       "      <td>2.000000</td>\n",
       "      <td>2.000000</td>\n",
       "      <td>3.000000</td>\n",
       "      <td>1.000000</td>\n",
       "      <td>1.000000</td>\n",
       "      <td>1.000000</td>\n",
       "      <td>1.00000</td>\n",
       "      <td>1.000000</td>\n",
       "      <td>1.000000</td>\n",
       "      <td>1.000000</td>\n",
       "      <td>10128.000000</td>\n",
       "    </tr>\n",
       "    <tr>\n",
       "      <th>max</th>\n",
       "      <td>5.000000</td>\n",
       "      <td>2.000000</td>\n",
       "      <td>2.000000</td>\n",
       "      <td>3.000000</td>\n",
       "      <td>1.000000</td>\n",
       "      <td>1.000000</td>\n",
       "      <td>1.000000</td>\n",
       "      <td>1.00000</td>\n",
       "      <td>1.000000</td>\n",
       "      <td>1.000000</td>\n",
       "      <td>1.000000</td>\n",
       "      <td>14318.000000</td>\n",
       "    </tr>\n",
       "  </tbody>\n",
       "</table>\n",
       "</div>"
      ],
      "text/plain": [
       "             room    bathroom     kitchen  french_door    backyard  \\\n",
       "count  999.000000  999.000000  999.000000   999.000000  999.000000   \n",
       "mean     3.019019    1.491491    1.496496     1.959960    0.510511   \n",
       "std      1.413731    0.500178    0.500238     0.809759    0.500140   \n",
       "min      1.000000    1.000000    1.000000     1.000000    0.000000   \n",
       "25%      2.000000    1.000000    1.000000     1.000000    0.000000   \n",
       "50%      3.000000    1.000000    1.000000     2.000000    1.000000   \n",
       "75%      4.000000    2.000000    2.000000     3.000000    1.000000   \n",
       "max      5.000000    2.000000    2.000000     3.000000    1.000000   \n",
       "\n",
       "        furnished  green_paint  solar_power   woodfloor  qlm_security  \\\n",
       "count  999.000000   999.000000    999.00000  999.000000    999.000000   \n",
       "mean     0.474474     0.523524      0.49049    0.501502      0.500501   \n",
       "std      0.499598     0.499696      0.50016    0.500248      0.500250   \n",
       "min      0.000000     0.000000      0.00000    0.000000      0.000000   \n",
       "25%      0.000000     0.000000      0.00000    0.000000      0.000000   \n",
       "50%      0.000000     1.000000      0.00000    1.000000      1.000000   \n",
       "75%      1.000000     1.000000      1.00000    1.000000      1.000000   \n",
       "max      1.000000     1.000000      1.00000    1.000000      1.000000   \n",
       "\n",
       "       club_access         price  \n",
       "count   999.000000    999.000000  \n",
       "mean      0.495495   8601.863864  \n",
       "std       0.500230   2217.898743  \n",
       "min       0.000000   2688.000000  \n",
       "25%       0.000000   7068.000000  \n",
       "50%       0.000000   8608.000000  \n",
       "75%       1.000000  10128.000000  \n",
       "max       1.000000  14318.000000  "
      ]
     },
     "execution_count": 10,
     "metadata": {},
     "output_type": "execute_result"
    }
   ],
   "source": [
    "# describe() - It shows a descriptive summary of the dataset\n",
    "test.describe()"
   ]
  },
  {
   "cell_type": "code",
   "execution_count": 11,
   "id": "ddecb0c4",
   "metadata": {},
   "outputs": [
    {
     "data": {
      "text/html": [
       "<div>\n",
       "<style scoped>\n",
       "    .dataframe tbody tr th:only-of-type {\n",
       "        vertical-align: middle;\n",
       "    }\n",
       "\n",
       "    .dataframe tbody tr th {\n",
       "        vertical-align: top;\n",
       "    }\n",
       "\n",
       "    .dataframe thead th {\n",
       "        text-align: right;\n",
       "    }\n",
       "</style>\n",
       "<table border=\"1\" class=\"dataframe\">\n",
       "  <thead>\n",
       "    <tr style=\"text-align: right;\">\n",
       "      <th></th>\n",
       "      <th>room</th>\n",
       "      <th>bathroom</th>\n",
       "      <th>kitchen</th>\n",
       "      <th>french_door</th>\n",
       "      <th>backyard</th>\n",
       "      <th>furnished</th>\n",
       "      <th>green_paint</th>\n",
       "      <th>solar_power</th>\n",
       "      <th>woodfloor</th>\n",
       "      <th>qlm_security</th>\n",
       "      <th>club_access</th>\n",
       "      <th>price</th>\n",
       "    </tr>\n",
       "  </thead>\n",
       "  <tbody>\n",
       "    <tr>\n",
       "      <th>count</th>\n",
       "      <td>3000.000000</td>\n",
       "      <td>3000.000000</td>\n",
       "      <td>3000.000000</td>\n",
       "      <td>3000.000000</td>\n",
       "      <td>3000.000000</td>\n",
       "      <td>3000.000000</td>\n",
       "      <td>3000.000000</td>\n",
       "      <td>3000.000000</td>\n",
       "      <td>3000.000000</td>\n",
       "      <td>3000.000000</td>\n",
       "      <td>3000.000000</td>\n",
       "      <td>3000.000000</td>\n",
       "    </tr>\n",
       "    <tr>\n",
       "      <th>mean</th>\n",
       "      <td>2.990000</td>\n",
       "      <td>1.489000</td>\n",
       "      <td>1.522000</td>\n",
       "      <td>1.998333</td>\n",
       "      <td>0.490333</td>\n",
       "      <td>0.488667</td>\n",
       "      <td>0.485000</td>\n",
       "      <td>0.495667</td>\n",
       "      <td>0.512333</td>\n",
       "      <td>0.480667</td>\n",
       "      <td>0.499667</td>\n",
       "      <td>8606.600000</td>\n",
       "    </tr>\n",
       "    <tr>\n",
       "      <th>std</th>\n",
       "      <td>1.424281</td>\n",
       "      <td>0.499962</td>\n",
       "      <td>0.499599</td>\n",
       "      <td>0.813153</td>\n",
       "      <td>0.499990</td>\n",
       "      <td>0.499955</td>\n",
       "      <td>0.499858</td>\n",
       "      <td>0.500065</td>\n",
       "      <td>0.499931</td>\n",
       "      <td>0.499709</td>\n",
       "      <td>0.500083</td>\n",
       "      <td>2216.248563</td>\n",
       "    </tr>\n",
       "    <tr>\n",
       "      <th>min</th>\n",
       "      <td>1.000000</td>\n",
       "      <td>1.000000</td>\n",
       "      <td>1.000000</td>\n",
       "      <td>1.000000</td>\n",
       "      <td>0.000000</td>\n",
       "      <td>0.000000</td>\n",
       "      <td>0.000000</td>\n",
       "      <td>0.000000</td>\n",
       "      <td>0.000000</td>\n",
       "      <td>0.000000</td>\n",
       "      <td>0.000000</td>\n",
       "      <td>2235.000000</td>\n",
       "    </tr>\n",
       "    <tr>\n",
       "      <th>25%</th>\n",
       "      <td>2.000000</td>\n",
       "      <td>1.000000</td>\n",
       "      <td>1.000000</td>\n",
       "      <td>1.000000</td>\n",
       "      <td>0.000000</td>\n",
       "      <td>0.000000</td>\n",
       "      <td>0.000000</td>\n",
       "      <td>0.000000</td>\n",
       "      <td>0.000000</td>\n",
       "      <td>0.000000</td>\n",
       "      <td>0.000000</td>\n",
       "      <td>7005.000000</td>\n",
       "    </tr>\n",
       "    <tr>\n",
       "      <th>50%</th>\n",
       "      <td>3.000000</td>\n",
       "      <td>1.000000</td>\n",
       "      <td>2.000000</td>\n",
       "      <td>2.000000</td>\n",
       "      <td>0.000000</td>\n",
       "      <td>0.000000</td>\n",
       "      <td>0.000000</td>\n",
       "      <td>0.000000</td>\n",
       "      <td>1.000000</td>\n",
       "      <td>0.000000</td>\n",
       "      <td>0.000000</td>\n",
       "      <td>8615.000000</td>\n",
       "    </tr>\n",
       "    <tr>\n",
       "      <th>75%</th>\n",
       "      <td>4.000000</td>\n",
       "      <td>2.000000</td>\n",
       "      <td>2.000000</td>\n",
       "      <td>3.000000</td>\n",
       "      <td>1.000000</td>\n",
       "      <td>1.000000</td>\n",
       "      <td>1.000000</td>\n",
       "      <td>1.000000</td>\n",
       "      <td>1.000000</td>\n",
       "      <td>1.000000</td>\n",
       "      <td>1.000000</td>\n",
       "      <td>10215.000000</td>\n",
       "    </tr>\n",
       "    <tr>\n",
       "      <th>max</th>\n",
       "      <td>5.000000</td>\n",
       "      <td>2.000000</td>\n",
       "      <td>2.000000</td>\n",
       "      <td>3.000000</td>\n",
       "      <td>1.000000</td>\n",
       "      <td>1.000000</td>\n",
       "      <td>1.000000</td>\n",
       "      <td>1.000000</td>\n",
       "      <td>1.000000</td>\n",
       "      <td>1.000000</td>\n",
       "      <td>1.000000</td>\n",
       "      <td>15035.000000</td>\n",
       "    </tr>\n",
       "  </tbody>\n",
       "</table>\n",
       "</div>"
      ],
      "text/plain": [
       "              room     bathroom      kitchen  french_door     backyard  \\\n",
       "count  3000.000000  3000.000000  3000.000000  3000.000000  3000.000000   \n",
       "mean      2.990000     1.489000     1.522000     1.998333     0.490333   \n",
       "std       1.424281     0.499962     0.499599     0.813153     0.499990   \n",
       "min       1.000000     1.000000     1.000000     1.000000     0.000000   \n",
       "25%       2.000000     1.000000     1.000000     1.000000     0.000000   \n",
       "50%       3.000000     1.000000     2.000000     2.000000     0.000000   \n",
       "75%       4.000000     2.000000     2.000000     3.000000     1.000000   \n",
       "max       5.000000     2.000000     2.000000     3.000000     1.000000   \n",
       "\n",
       "         furnished  green_paint  solar_power    woodfloor  qlm_security  \\\n",
       "count  3000.000000  3000.000000  3000.000000  3000.000000   3000.000000   \n",
       "mean      0.488667     0.485000     0.495667     0.512333      0.480667   \n",
       "std       0.499955     0.499858     0.500065     0.499931      0.499709   \n",
       "min       0.000000     0.000000     0.000000     0.000000      0.000000   \n",
       "25%       0.000000     0.000000     0.000000     0.000000      0.000000   \n",
       "50%       0.000000     0.000000     0.000000     1.000000      0.000000   \n",
       "75%       1.000000     1.000000     1.000000     1.000000      1.000000   \n",
       "max       1.000000     1.000000     1.000000     1.000000      1.000000   \n",
       "\n",
       "       club_access         price  \n",
       "count  3000.000000   3000.000000  \n",
       "mean      0.499667   8606.600000  \n",
       "std       0.500083   2216.248563  \n",
       "min       0.000000   2235.000000  \n",
       "25%       0.000000   7005.000000  \n",
       "50%       0.000000   8615.000000  \n",
       "75%       1.000000  10215.000000  \n",
       "max       1.000000  15035.000000  "
      ]
     },
     "execution_count": 11,
     "metadata": {},
     "output_type": "execute_result"
    }
   ],
   "source": [
    "train.describe()"
   ]
  },
  {
   "cell_type": "code",
   "execution_count": 12,
   "id": "e27bb0cb",
   "metadata": {},
   "outputs": [
    {
     "data": {
      "text/plain": [
       "(999, 12)"
      ]
     },
     "execution_count": 12,
     "metadata": {},
     "output_type": "execute_result"
    }
   ],
   "source": [
    "# shape - It shows the total no. of rows and columns of the dataframe\n",
    "test.shape"
   ]
  },
  {
   "cell_type": "code",
   "execution_count": 14,
   "id": "25d04556",
   "metadata": {},
   "outputs": [
    {
     "data": {
      "text/plain": [
       "(3000, 12)"
      ]
     },
     "execution_count": 14,
     "metadata": {},
     "output_type": "execute_result"
    }
   ],
   "source": [
    "train.shape"
   ]
  },
  {
   "cell_type": "code",
   "execution_count": 15,
   "id": "f4b37464",
   "metadata": {},
   "outputs": [
    {
     "name": "stdout",
     "output_type": "stream",
     "text": [
      "<class 'pandas.core.frame.DataFrame'>\n",
      "RangeIndex: 999 entries, 0 to 998\n",
      "Data columns (total 12 columns):\n",
      " #   Column        Non-Null Count  Dtype\n",
      "---  ------        --------------  -----\n",
      " 0   room          999 non-null    int64\n",
      " 1   bathroom      999 non-null    int64\n",
      " 2   kitchen       999 non-null    int64\n",
      " 3   french_door   999 non-null    int64\n",
      " 4   backyard      999 non-null    int64\n",
      " 5   furnished     999 non-null    int64\n",
      " 6   green_paint   999 non-null    int64\n",
      " 7   solar_power   999 non-null    int64\n",
      " 8   woodfloor     999 non-null    int64\n",
      " 9   qlm_security  999 non-null    int64\n",
      " 10  club_access   999 non-null    int64\n",
      " 11  price         999 non-null    int64\n",
      "dtypes: int64(12)\n",
      "memory usage: 93.8 KB\n"
     ]
    }
   ],
   "source": [
    "# info() - Provides basic information about the dataframe.\n",
    "test.info()"
   ]
  },
  {
   "cell_type": "code",
   "execution_count": 16,
   "id": "3eba005e",
   "metadata": {},
   "outputs": [
    {
     "name": "stdout",
     "output_type": "stream",
     "text": [
      "<class 'pandas.core.frame.DataFrame'>\n",
      "RangeIndex: 3000 entries, 0 to 2999\n",
      "Data columns (total 12 columns):\n",
      " #   Column        Non-Null Count  Dtype\n",
      "---  ------        --------------  -----\n",
      " 0   room          3000 non-null   int64\n",
      " 1   bathroom      3000 non-null   int64\n",
      " 2   kitchen       3000 non-null   int64\n",
      " 3   french_door   3000 non-null   int64\n",
      " 4   backyard      3000 non-null   int64\n",
      " 5   furnished     3000 non-null   int64\n",
      " 6   green_paint   3000 non-null   int64\n",
      " 7   solar_power   3000 non-null   int64\n",
      " 8   woodfloor     3000 non-null   int64\n",
      " 9   qlm_security  3000 non-null   int64\n",
      " 10  club_access   3000 non-null   int64\n",
      " 11  price         3000 non-null   int64\n",
      "dtypes: int64(12)\n",
      "memory usage: 281.4 KB\n"
     ]
    }
   ],
   "source": [
    "train.info()"
   ]
  },
  {
   "cell_type": "code",
   "execution_count": 17,
   "id": "d99e2de9",
   "metadata": {},
   "outputs": [
    {
     "data": {
      "text/plain": [
       "Index(['room', 'bathroom', 'kitchen', 'french_door', 'backyard', 'furnished',\n",
       "       'green_paint', 'solar_power', 'woodfloor', 'qlm_security',\n",
       "       'club_access', 'price'],\n",
       "      dtype='object')"
      ]
     },
     "execution_count": 17,
     "metadata": {},
     "output_type": "execute_result"
    }
   ],
   "source": [
    "# columns - It shows the name of each column\n",
    "test.columns"
   ]
  },
  {
   "cell_type": "code",
   "execution_count": 18,
   "id": "a61d6332",
   "metadata": {},
   "outputs": [
    {
     "data": {
      "text/plain": [
       "Index(['room', 'bathroom', 'kitchen', 'french_door', 'backyard', 'furnished',\n",
       "       'green_paint', 'solar_power', 'woodfloor', 'qlm_security',\n",
       "       'club_access', 'price'],\n",
       "      dtype='object')"
      ]
     },
     "execution_count": 18,
     "metadata": {},
     "output_type": "execute_result"
    }
   ],
   "source": [
    "train.columns"
   ]
  },
  {
   "cell_type": "code",
   "execution_count": 19,
   "id": "fd893eb4",
   "metadata": {},
   "outputs": [
    {
     "data": {
      "text/plain": [
       "room            0\n",
       "bathroom        0\n",
       "kitchen         0\n",
       "french_door     0\n",
       "backyard        0\n",
       "furnished       0\n",
       "green_paint     0\n",
       "solar_power     0\n",
       "woodfloor       0\n",
       "qlm_security    0\n",
       "club_access     0\n",
       "price           0\n",
       "dtype: int64"
      ]
     },
     "execution_count": 19,
     "metadata": {},
     "output_type": "execute_result"
    }
   ],
   "source": [
    "#isnull() - this shows the number of null values in the dataset\n",
    "test.isnull().sum()"
   ]
  },
  {
   "cell_type": "code",
   "execution_count": 20,
   "id": "0e2132c8",
   "metadata": {},
   "outputs": [
    {
     "data": {
      "text/plain": [
       "room            0\n",
       "bathroom        0\n",
       "kitchen         0\n",
       "french_door     0\n",
       "backyard        0\n",
       "furnished       0\n",
       "green_paint     0\n",
       "solar_power     0\n",
       "woodfloor       0\n",
       "qlm_security    0\n",
       "club_access     0\n",
       "price           0\n",
       "dtype: int64"
      ]
     },
     "execution_count": 20,
     "metadata": {},
     "output_type": "execute_result"
    }
   ],
   "source": [
    "train.isnull().sum()"
   ]
  },
  {
   "cell_type": "code",
   "execution_count": 21,
   "id": "0406b738",
   "metadata": {},
   "outputs": [],
   "source": [
    "# Define the features and target variable\n",
    "X_train = train.drop('price', axis=1)\n",
    "y_train = train['price']\n",
    "X_test = test.drop('price', axis=1)\n",
    "y_test = test['price']"
   ]
  },
  {
   "cell_type": "code",
   "execution_count": 92,
   "id": "6b0321ff",
   "metadata": {},
   "outputs": [],
   "source": [
    "# build a linear regression model\n",
    "from sklearn.linear_model import LinearRegression\n",
    "model = LinearRegression().fit(X_train, y_train)"
   ]
  },
  {
   "cell_type": "code",
   "execution_count": 93,
   "id": "cf933b64",
   "metadata": {},
   "outputs": [
    {
     "data": {
      "text/plain": [
       "LinearRegression()"
      ]
     },
     "execution_count": 93,
     "metadata": {},
     "output_type": "execute_result"
    }
   ],
   "source": [
    "# Fit the model to the training data\n",
    "model.fit(X_train, y_train)"
   ]
  },
  {
   "cell_type": "code",
   "execution_count": 94,
   "id": "de3088f1",
   "metadata": {},
   "outputs": [
    {
     "data": {
      "text/plain": [
       "array([ 5055.,  7645., 11305.,  8845., 11165., 11375., 11735.,  6835.,\n",
       "        7815.,  5895.,  9095.,  8295.,  6695., 11305.,  7205.,  9165.,\n",
       "        8775., 12745.,  9745.,  6655.,  9325.,  7785.,  7075.,  4315.,\n",
       "        9965.,  6855.,  7335.,  8895.,  6325.,  9695.,  6645., 10305.,\n",
       "       10485.,  8195.,  7565., 10355.,  9475., 11115.,  9765., 12825.,\n",
       "        6295.,  5125.,  9825.,  8895., 11715.,  6205.,  4095., 11475.,\n",
       "        9565.,  5535., 11455., 10395.,  4125.,  7735., 13055.,  9595.,\n",
       "        6445.,  8365., 10155.,  7835.,  8275., 14305.,  7075.,  8435.,\n",
       "       12625.,  7095., 11435., 10555., 10095.,  5535.,  8235., 12095.,\n",
       "        4215.,  5865.,  9355.,  9245.,  7065., 11625., 10855., 10825.,\n",
       "        8785.,  7355., 11865.,  8315., 11805.,  5945.,  8775.,  8275.,\n",
       "        7165.,  8245.,  7575., 11925., 11965.,  7975.,  6645., 10795.,\n",
       "       11235.,  8195.,  9355.,  7445.,  7235.,  8935.,  4575.,  9675.,\n",
       "        5735.,  5075., 10645.,  9705.,  8605., 12515.,  8165.,  6105.,\n",
       "        9175.,  6705.,  9265.,  9605.,  9925.,  7345.,  9215.,  7785.,\n",
       "        8395.,  7535.,  6565.,  8665., 12195., 10195., 10905.,  5785.,\n",
       "        5225.,  6095.,  3845.,  6235.,  9975.,  6465., 11025.,  6565.,\n",
       "        4975., 11695.,  8105.,  9135., 10605., 10325.,  5505.,  7435.,\n",
       "        8895., 11485.,  5995.,  7265.,  5185., 10695., 13005.,  9735.,\n",
       "       10425., 11185.,  8295., 11925.,  7745.,  8005., 10355., 10035.,\n",
       "       11995.,  8665., 10825.,  6935.,  9425.,  9695., 12285.,  7405.,\n",
       "       11715.,  5595.,  9305.,  8145., 10905.,  5655.,  6645.,  7815.,\n",
       "        8195.,  9665.,  7865., 10445., 11795.,  8305.,  8885.,  8325.,\n",
       "        5175.,  9645.,  8895.,  8645., 10135.,  7705.,  5865.,  8405.,\n",
       "        5345.,  6275.,  7275.,  7345., 11795.,  9905.,  5715., 11345.,\n",
       "        9535.,  7525., 12955.,  5345.,  7995.,  7885., 10225.,  8365.,\n",
       "       10165., 11935., 10685.,  8895.,  8975.,  8135.,  9325., 12165.,\n",
       "        9605.,  6965.,  6075.,  5475., 12635.,  4105.,  5745.,  8745.,\n",
       "        8835.,  6165.,  7845.,  6545.,  7785.,  4705., 12865.,  7995.,\n",
       "        7435.,  9195.,  6135., 13685.,  9045., 10355.,  8835.,  6835.,\n",
       "        5535.,  8005.,  7405.,  8785.,  8765., 11625.,  9135., 10875.,\n",
       "       11295.,  7765.,  9105.,  8315.,  6675.,  5575.,  7395.,  6805.,\n",
       "        9625.,  8055.,  6035.,  6665., 11205.,  9945.,  5275.,  8965.,\n",
       "       11305.,  6985.,  7305., 10705.,  7745., 11145., 11795.,  5455.,\n",
       "        6415.,  9515.,  8435.,  9545.,  8805.,  4205., 10605.,  9005.,\n",
       "        2775.,  9705., 12465., 10445.,  4745., 11055., 11905.,  6465.,\n",
       "       10055.,  9375., 10905.,  9195., 11435.,  9475.,  9295., 10105.,\n",
       "        9085.,  5385.,  8945., 10495.,  8855., 11325.,  8545.,  8095.,\n",
       "        6525.,  7065.,  9165., 10395.,  8455., 10705.,  9945., 11615.,\n",
       "        7455.,  8965.,  8365.,  5865.,  8405.,  8445.,  9675.,  7705.,\n",
       "        8055.,  7405.,  9715.,  7555.,  9455.,  6295.,  9455.,  7475.,\n",
       "        8265.,  5905.,  7735.,  7755.,  8715.,  5595.,  8285.,  9675.,\n",
       "        7345., 11175.,  7875.,  6575., 10245.,  7785.,  4065., 12385.,\n",
       "        8205., 12695.,  9025., 10145.,  6875.,  5865., 11655., 11035.,\n",
       "        4235.,  7175., 10195.,  6385.,  7225.,  9485., 12495.,  8605.,\n",
       "        4835.,  6265.,  6545.,  8165.,  9495.,  8955.,  5535.,  5985.,\n",
       "        6895.,  8415., 10175., 11495.,  9425.,  9215.,  8425.,  7865.,\n",
       "        9355.,  4575.,  9105.,  4875.,  8335.,  7855.,  6855.,  8685.,\n",
       "        7065.,  5745.,  8545.,  9005.,  4565.,  3335.,  7695.,  5915.,\n",
       "        9945.,  7365.,  8055.,  7965.,  6375.,  6735.,  8595.,  7935.,\n",
       "        7995.,  7265.,  4795.,  9235.,  9215., 10665., 10865.,  8145.,\n",
       "        7175.,  7045.,  8585.,  8965.,  5015.,  4845.,  8435., 11655.,\n",
       "        7115., 10345.,  5975., 11625.,  8615., 12565., 11555.,  9245.,\n",
       "       10975., 12135., 11625.,  7905., 10195., 11305.,  8815.,  6865.,\n",
       "       13325.,  6795., 10015.,  7245., 11295.,  6995.,  5885.,  8135.,\n",
       "        6905.,  5495.,  8395.,  7905.,  7805.,  8855., 10965., 12825.,\n",
       "        8245.,  6635.,  7635.,  9955.,  7545.,  8665.,  8145.,  7205.,\n",
       "        8865.,  6395.,  8135.,  8185.,  9775.,  9625.,  5145.,  5495.,\n",
       "        6845.,  9525.,  7915.,  7085.,  6425.,  7055.,  8295.,  9735.,\n",
       "        8615., 11065.,  5625.,  8265.,  9365.,  6195.,  7535.,  9255.,\n",
       "        9485., 10195.,  6815.,  8085.,  7555.,  9525.,  5315., 11135.,\n",
       "        7325.,  8555., 10935.,  8555.,  7415.,  9585.,  5955.,  5735.,\n",
       "        9115.,  5405., 10905.,  8265.,  9845., 10615.,  8685.,  7005.,\n",
       "        8275.,  6945.,  8385.,  9175.,  9865.,  9235.,  8715., 10335.,\n",
       "        8695.,  5875., 10135.,  5675., 12005.,  3605.,  4105.,  9695.,\n",
       "       12595., 13805.,  6405., 12705., 12235.,  5935.,  8435.,  9055.,\n",
       "        8265.,  9675., 11075.,  4165.,  7435.,  9405.,  9465.,  7905.,\n",
       "        5305.,  9055., 10705.,  9875.,  6935., 10835.,  7325., 13055.,\n",
       "        6095., 11825., 11895.,  7545.,  7535.,  5365.,  2675., 13455.,\n",
       "       10215.,  7985.,  6815., 12225.,  8565.,  7995., 12065.,  9905.,\n",
       "        9285., 10275.,  7485.,  9325.,  4305.,  5585., 10905.,  6005.,\n",
       "        7555.,  4505.,  7905.,  5715., 10105.,  8795., 11245.,  8605.,\n",
       "        8475.,  7645.,  6245.,  6915.,  8655., 11795.,  7825.,  8815.,\n",
       "        9935.,  9205., 11505.,  9675.,  9475., 10035.,  9325.,  6675.,\n",
       "       10295.,  6395., 10475.,  6865.,  8375.,  5885.,  7745.,  9855.,\n",
       "        9595., 11845.,  7565.,  8365.,  3915.,  8875.,  8495.,  7455.,\n",
       "        9715., 11255.,  2905.,  9405., 12765.,  9905.,  6695.,  5715.,\n",
       "       12105., 12465.,  7005.,  8685.,  9215.,  8975.,  9735.,  7865.,\n",
       "        9295., 10765.,  7845.,  8365.,  8705.,  6575., 11975.,  8865.,\n",
       "        8165.,  7765.,  7835.,  9425.,  7385.,  6595.,  5765.,  5805.,\n",
       "       10805., 10335.,  7025., 12065.,  8805.,  8055., 11195.,  5645.,\n",
       "        9475.,  6345., 12885.,  7675.,  9105., 10475.,  6225.,  6975.,\n",
       "        6075.,  8105.,  9795.,  7075.,  3765.,  8205.,  8465.,  5585.,\n",
       "       10995.,  9055.,  7365.,  4975.,  6455., 11235.,  8265., 12105.,\n",
       "        7295.,  9735.,  9215.,  9635.,  4755.,  4595., 11695.,  9145.,\n",
       "        8295., 10245.,  8205., 10465.,  3175.,  7635.,  9645.,  7415.,\n",
       "        6905.,  8745.,  9095., 11025., 11885.,  4855.,  7355., 11625.,\n",
       "        8065.,  8965., 10095.,  5115., 10815., 11065.,  7225.,  8555.,\n",
       "        8095.,  6815.,  8475.,  9175.,  3945., 10295., 10395., 12535.,\n",
       "        8735.,  4535., 10405.,  5135.,  9135.,  6805.,  8995.,  5075.,\n",
       "        8975.,  6105.,  9205.,  7435.,  5405.,  7965.,  8535.,  7935.,\n",
       "       10885., 10155., 11755., 10215.,  3415.,  9655., 13055.,  8765.,\n",
       "        7765.,  9365.,  8205.,  9975., 10605.,  8725.,  8525.,  3215.,\n",
       "        5175.,  7765.,  9055., 11535.,  8205., 11195., 11655.,  6835.,\n",
       "        3635.,  9675., 10305.,  9325.,  8195., 10365.,  9735., 10015.,\n",
       "       10215., 11205., 10735.,  5935., 10075., 11915.,  8675., 13925.,\n",
       "        9775.,  5575., 11335., 11065.,  9735.,  4445., 12285.,  6955.,\n",
       "       10455., 11475., 11105.,  9425.,  8085., 14005.,  7645., 10345.,\n",
       "        7125.,  8165.,  7295.,  7205.,  9065.,  9875.,  6765.,  7735.,\n",
       "       10415.,  9555.,  6145.,  6315., 14235.,  9145.,  8485.,  8885.,\n",
       "        8385.,  6395.,  5595.,  5625.,  9175.,  7975.,  8355., 10405.,\n",
       "        8995., 11605.,  5715.,  7115.,  8735.,  7005.,  6345., 12245.,\n",
       "        5875., 11255., 10465.,  8285., 11735., 11415., 11665.,  9135.,\n",
       "       10165.,  7055.,  8525.,  7845.,  6835., 12225.,  7385., 10005.,\n",
       "        7345.,  3405.,  9645.,  7745.,  8265.,  9495.,  6145., 10245.,\n",
       "        6805., 10965., 11115.,  6435., 11965., 10045.,  5175.,  9535.,\n",
       "        7325.,  4805., 12065.,  8265.,  8875., 11225.,  8535.,  9645.,\n",
       "        9275.,  5665.,  7315.,  6015.,  7965.,  5625., 12145.,  9035.,\n",
       "       13445.,  5715.,  6005.,  5365.,  3405., 10175.,  8565., 11235.,\n",
       "        4625.,  6025.,  7365.,  6625.,  9665., 11415.,  7855.,  5705.,\n",
       "        7555.,  9675.,  5475.,  6455.,  8085.,  9595.,  8395.,  6975.,\n",
       "        6795., 10285., 11445.,  5155.,  8675., 12825.,  3475., 10685.,\n",
       "       11705.,  8295.,  7275.,  9435., 10125.,  6605.,  9805., 11505.,\n",
       "        7575.,  7925., 10005.,  9225.,  4375.,  8105., 12705.,  4415.,\n",
       "        7575., 10235.,  7605., 10665.,  9555.,  6905.,  7045.,  4995.,\n",
       "        8075.,  9265.,  8755.,  8165., 13435.,  7765.,  9135.,  8795.,\n",
       "        5905.,  9545.,  8555.,  8925.,  9805.,  7165.,  9875.,  9765.,\n",
       "        5075., 11495.,  5735.,  6895., 11215., 12695., 13445., 12455.,\n",
       "        8765.,  7435.,  9805., 10795.,  7865., 13995.,  8115.,  8595.,\n",
       "       10805., 11395.,  5415.,  5345.,  9855.,  6895., 11055., 12835.,\n",
       "        8725.,  7355.,  5585.,  8215., 13825.,  9115.,  9875.,  5705.,\n",
       "        6165., 10455., 13175., 12115.,  9655.,  9565.,  8765.,  8725.,\n",
       "       11435.,  8085.,  6425.,  5005., 12465., 10535.,  8335.,  5025.,\n",
       "        9555.,  5455.,  2735.,  7605., 10845.,  6655., 10055., 11765.,\n",
       "        9775.,  5475., 10075.,  9775.,  9375.,  8515.,  6105.])"
      ]
     },
     "execution_count": 94,
     "metadata": {},
     "output_type": "execute_result"
    }
   ],
   "source": [
    "# Predict the response variable for the test data\n",
    "y_pred = model.predict(X_test)\n",
    "y_pred"
   ]
  },
  {
   "cell_type": "code",
   "execution_count": 95,
   "id": "af40580d",
   "metadata": {},
   "outputs": [
    {
     "name": "stdout",
     "output_type": "stream",
     "text": [
      "1.0\n"
     ]
    }
   ],
   "source": [
    "#printing out the model score \n",
    "print(model.score(X_train, y_train))"
   ]
  },
  {
   "cell_type": "code",
   "execution_count": 135,
   "id": "38318573",
   "metadata": {},
   "outputs": [
    {
     "name": "stdout",
     "output_type": "stream",
     "text": [
      "MAE Score: 174.44934934934932\n",
      "MSE score: 52550.88707707707\n"
     ]
    }
   ],
   "source": [
    "# Evaluate the performance of the model\n",
    "print('MAE Score:', mean_absolute_error(y_test, y_pred))\n",
    "print('MSE score:', mean_squared_error(y_test, y_pred))"
   ]
  },
  {
   "cell_type": "code",
   "execution_count": 97,
   "id": "95b79703",
   "metadata": {
    "scrolled": true
   },
   "outputs": [
    {
     "data": {
      "image/png": "[encoded data removed]",
      "text/plain": [
       "<Figure size 432x288 with 1 Axes>"
      ]
     },
     "metadata": {},
     "output_type": "display_data"
    }
   ],
   "source": [
    "#visualizing the comparison between test and predicted regression values\n",
    "make_plot(y_test, y_pred)"
   ]
  },
  {
   "cell_type": "code",
   "execution_count": 98,
   "id": "3ccd44d1",
   "metadata": {
    "scrolled": true
   },
   "outputs": [
    {
     "data": {
      "image/png": "[encoded data removed]",
      "text/plain": [
       "<Figure size 432x288 with 1 Axes>"
      ]
     },
     "metadata": {},
     "output_type": "display_data"
    }
   ],
   "source": [
    "# Get the feature importance scores\n",
    "feature_importance = model.coef_\n",
    "\n",
    "# Get feature names\n",
    "feature_names = X_train.columns\n",
    "\n",
    "# Create a horizontal bar plot\n",
    "fig, ax = plt.subplots()\n",
    "ax.barh(feature_names, feature_importance)\n",
    "\n",
    "# Set the x-axis label\n",
    "ax.set_xlabel('Importance Score')\n",
    "\n",
    "# Show the plot\n",
    "plt.show()"
   ]
  },
  {
   "cell_type": "code",
   "execution_count": 106,
   "id": "7fb999d0",
   "metadata": {},
   "outputs": [
    {
     "data": {
      "text/plain": [
       "[(1999.9999999999986, 'furnished'),\n",
       " (1889.9999999999998, 'woodfloor'),\n",
       " (1529.9999999999961, 'solar_power'),\n",
       " (1000.0000000000002, 'room'),\n",
       " (730.0000000000001, 'club_access'),\n",
       " (560.0000000000003, 'backyard'),\n",
       " (500.00000000000205, 'kitchen'),\n",
       " (440.0000000000012, 'qlm_security'),\n",
       " (370.0000000000014, 'green_paint'),\n",
       " (299.9999999999994, 'bathroom'),\n",
       " (240.00000000000034, 'french_door')]"
      ]
     },
     "execution_count": 106,
     "metadata": {},
     "output_type": "execute_result"
    }
   ],
   "source": [
    "#concatenate the train dataset columns with feature importances and sort \n",
    "imp_scores = zip(feature_importance,  X_train.columns)\n",
    "sorted(list(imp_scores), reverse=True)"
   ]
  },
  {
   "cell_type": "code",
   "execution_count": 120,
   "id": "8fb01b0a",
   "metadata": {},
   "outputs": [],
   "source": [
    "# Create a random forest regression model object\n",
    "from sklearn.ensemble import RandomForestRegressor\n",
    "rf_reg = RandomForestRegressor()"
   ]
  },
  {
   "cell_type": "code",
   "execution_count": 121,
   "id": "7f2ff128",
   "metadata": {},
   "outputs": [
    {
     "data": {
      "text/plain": [
       "RandomForestRegressor()"
      ]
     },
     "execution_count": 121,
     "metadata": {},
     "output_type": "execute_result"
    }
   ],
   "source": [
    "# Fit the model to the training data\n",
    "rf_reg.fit(X_train, y_train)"
   ]
  },
  {
   "cell_type": "code",
   "execution_count": 134,
   "id": "0d21fa06",
   "metadata": {},
   "outputs": [
    {
     "data": {
      "text/plain": [
       "array([ 5330.1,  7712. , 11418.5,  8790.2, 11094.3, 11495.3, 11732.1,\n",
       "        7000.1,  7907.7,  5910.7,  9147.3,  8455.5,  7074.1, 11287.7,\n",
       "        7339. ,  9490.2,  8966.9, 12785.1,  9863.5,  7030.6,  8878.2,\n",
       "        7456.6,  7093.5,  4223.8, 10081. ,  7349.3,  7333.4,  9098.9,\n",
       "        6808.6,  9143.8,  6619.1, 10041.8, 10536.2,  8292. ,  7768.4,\n",
       "       10201.2,  9251.9, 11074.6,  9383. , 13280.3,  6625.3,  5272.2,\n",
       "        9868.3,  8951.7, 11589.2,  6149.6,  4364.7, 11433.9,  9623.4,\n",
       "        5444.8, 11520.4, 10720.1,  4848.9,  7953.9, 13586.3,  9768.4,\n",
       "        6119.2,  8393.5, 10081.1,  7791. ,  7941.3, 13469. ,  7239.2,\n",
       "        8470.8, 12526.9,  7140. , 11348.9, 10559.7,  9992. ,  5577.3,\n",
       "        8175.3, 12118. ,  4163.2,  6227.8,  9570.3,  8697.5,  6879.9,\n",
       "       11231.8, 10941.9, 10591.4,  8829. ,  7411.3, 11939.2,  8186. ,\n",
       "       11707.4,  6248.2,  8746.6,  8304.4,  6921.1,  8268. ,  7572.5,\n",
       "       12111.7, 11659.3,  7913.7,  6619.1, 11087. , 11140. ,  8321.9,\n",
       "        9191.7,  7306.8,  7036.7,  8707.2,  4595.4,  9843. ,  5807.9,\n",
       "        4827.6, 10661.3,  9758.7,  8445.8, 12685.5,  7934.8,  6069.8,\n",
       "        9206.2,  6554. ,  9212.7,  9658.9, 10237.2,  7101.3,  8942.2,\n",
       "        7500.6,  7911.1,  7411.2,  6700.5,  8561.7, 12388.3, 10283.8,\n",
       "       10680.2,  5760.2,  5246. ,  6151.1,  3856.3,  6204.1,  9851.9,\n",
       "        6090.3, 11054.3,  6598.6,  5114.7, 11638.1,  8123.5,  8783. ,\n",
       "       10781.7,  9977.8,  5991.2,  7510.7,  8705.7, 11520.7,  6393.2,\n",
       "        7284.4,  5410.8, 10639.1, 12677. ,  9554.4, 10389.2, 11307.7,\n",
       "        8158.8, 12111.7,  7358.2,  7799.5, 10169.2, 10343.2, 12181.4,\n",
       "        9006.6, 10760.4,  6965.6,  9473.8,  9309.4, 12327. ,  7541.6,\n",
       "       11589.2,  5663.4,  9523. ,  8013. , 10918.8,  5664. ,  6560.5,\n",
       "        7334.2,  8269.4,  9577.4,  7753.7, 10552.7, 11485.2,  8256.4,\n",
       "        8964.4,  8002.8,  5516.9,  9403.1,  8436.3,  7926.5,  9935.3,\n",
       "        7467.2,  6227.8,  8151.4,  5192. ,  6525.1,  7262.4,  7101.3,\n",
       "       11702.8,  9629.5,  5649.3, 11261. ,  8988.6,  7965.4, 12980.2,\n",
       "        5192. ,  8085.5,  7664.5,  9765.8,  8313.9, 10324.7, 11601.3,\n",
       "       11172.8,  9051. ,  8921.4,  8132.3,  9153.1, 11952.3,  9560.6,\n",
       "        6966.4,  6045.9,  5661. , 12600.2,  4283.3,  6260.6,  9012.8,\n",
       "        8893.9,  6287.5,  7819.2,  6920.9,  7500.6,  4970.3, 13295.6,\n",
       "        8000.9,  7489.6,  9076.4,  6657.4, 13700.1,  8773.9, 10180.2,\n",
       "        8394.6,  6766.1,  5982. ,  7969.4,  7272.9,  8829. ,  8773.7,\n",
       "       11378. ,  9222.3, 10931.4, 11383.8,  8191.5,  9123.3,  8186. ,\n",
       "        6129.7,  5462.5,  7297.1,  7023.6,  9486.6,  7605.7,  6419.3,\n",
       "        6944.8, 11200.5,  9811. ,  5307.6,  8918. , 11113.3,  6998.4,\n",
       "        7233.8, 10342.8,  7088.4, 10994.1, 11980.2,  5507.4,  6240.3,\n",
       "        9555.9,  8391.5,  9609.4,  8965.5,  3768.8, 10781.7,  8881.2,\n",
       "        2943.2,  9482.3, 12464.2, 10805.7,  4726.3, 10806.1, 11502.5,\n",
       "        6309.2, 10015.4,  9042.5, 10917.3,  9361.8, 11485.2,  9370.8,\n",
       "        9448. ,  9903.3,  9015.2,  5241. ,  8494.9, 10819.1,  8612. ,\n",
       "       11556.4,  8619.9,  8111.4,  6619.6,  7085.6,  9390.6, 10349.3,\n",
       "        8852.1, 10812.8, 10069.8, 11411.7,  7926.8,  8888.7,  8277. ,\n",
       "        6334.1,  8151.4,  8391.3,  9710.7,  8033.2,  7866.9,  7288.2,\n",
       "       10196. ,  7591.4,  9237. ,  6473.1,  9404.1,  7313.2,  8380.7,\n",
       "        5999. ,  7653.8,  8069.8,  8527.3,  5570.6,  7886.9,  9341.6,\n",
       "        6941.9, 10980.7,  7935.7,  6403.1, 10141.3,  7456.6,  4146.9,\n",
       "       12296.7,  8399.5, 12513.5,  9169.3,  9685.5,  6631.3,  5828.3,\n",
       "       11641.1, 10935.3,  4682.6,  7398.3, 10181.9,  6465.4,  7237.6,\n",
       "        9467.8, 12296.2,  8445.8,  4672.7,  5925.2,  6501. ,  8254.5,\n",
       "        9337.4,  8806.4,  5749.5,  6109.3,  6797.9,  8377.5,  9784.2,\n",
       "       11391.2,  9551.4,  8844.8,  8526.8,  7926.8,  9427.6,  4514.7,\n",
       "        9123.3,  4884.4,  8256.2,  7815.9,  6986.6,  8441.2,  7489.2,\n",
       "        5936.7,  8557.7,  8536.1,  4934.1,  3682.9,  7430.8,  6005.1,\n",
       "        9920.8,  7115. ,  8072.3,  7621.4,  6027.1,  6800.5,  8620.7,\n",
       "        7880.3,  8086.4,  7633.1,  4879.4,  9236.4,  8942.2, 10363.9,\n",
       "       11190.1,  7847.5,  6939.7,  7167.9,  8347.6,  9129.4,  4893. ,\n",
       "        4835.6,  8614.1, 11749.3,  7300.1, 10206.1,  6037.2, 11789.8,\n",
       "        8892.9, 12528.6, 11688.4,  9592.7, 11358.1, 12306.3, 11592.1,\n",
       "        7906. , 10210.2, 11294.4,  9067.3,  7028.6, 13116.5,  6854.7,\n",
       "       10294.3,  7017.3, 11366.4,  7282.8,  6027.3,  7568.5,  6745.9,\n",
       "        5422.5,  8542.6,  7762.7,  7549.4,  9107.9, 10906.4, 12894.7,\n",
       "        8725.6,  6728.2,  7854.1,  9941.2,  7880.1,  8342.1,  8281.3,\n",
       "        7280.8,  9138.8,  6599. ,  8462.7,  8016.4,  9637.7,  9963.5,\n",
       "        5093.5,  5632.1,  7052.3,  9411. ,  8304.3,  7102.8,  6418.4,\n",
       "        7455.5,  8396.3,  9671.8,  8533.2, 11056.1,  6103. ,  8380. ,\n",
       "        9363.4,  6393.5,  7678.3,  9302.7,  9764.4, 10391.9,  6297. ,\n",
       "        7961.6,  7395.2,  9899.5,  5250.6, 10721.8,  7255.2,  8592.9,\n",
       "       10796.1,  8592.9,  7214.5,  9498.5,  5926.9,  5760.9,  9109.1,\n",
       "        5853.5, 10918.8,  8132.1,  9827.2, 10440.5,  8441.2,  7041.3,\n",
       "        8304.4,  6766.1,  8949.5,  8876.6,  9449.1,  8965. ,  8719.8,\n",
       "       10115. ,  8688.2,  5898. , 10295.2,  5330.6, 11768.2,  3334.5,\n",
       "        3959.5,  9271.3, 12542.4, 13894. ,  6061.8, 12362.1, 12003.6,\n",
       "        5922.2,  8462.1,  9162.2,  8158.9,  9423.6, 11232.6,  4638.2,\n",
       "        7304.1,  9253.1,  9700.6,  7202.4,  5026.5,  9162.2,  9825.8,\n",
       "        9733.3,  6837.6, 10692.7,  7351.7, 13230.2,  6354.9, 11993.9,\n",
       "       11665.3,  7880.1,  7411.2,  5680.9,  2708.4, 13423.6, 10258.8,\n",
       "        8035.4,  6905.8, 12215.1,  8759.3,  8000.9, 12096.8, 10190.6,\n",
       "        9641.4,  9848.3,  7486.4,  9442.8,  4441.6,  5411.6, 10438.3,\n",
       "        6017.4,  7558.2,  4715.7,  7906. ,  5753. , 10273.2,  8499.1,\n",
       "       11053.7,  8537.1,  8402.1,  7621.1,  6706.1,  7291. ,  9015.5,\n",
       "       11702.8,  7848.6,  8829.9,  9532.6,  8922.1, 11447.1,  9653.7,\n",
       "        9471.3, 10343.2,  9323. ,  6910.3, 10478.2,  6158.7, 10534.9,\n",
       "        7092. ,  8202.3,  5809.1,  7088.4, 10034.6,  9420.4, 11757.8,\n",
       "        7667.6,  8393.5,  3862.5,  8380.7,  8631.6,  7121.5,  9633.7,\n",
       "       11179.1,  3180.2,  9253.1, 12938.2, 10144.4,  7074.1,  5753. ,\n",
       "       12108.4, 12791.9,  7403.7,  8712.3,  9576.5,  9485.3,  9513.5,\n",
       "        7979.6,  9368.3, 10687. ,  7776.8,  8233. ,  8459.4,  6815.3,\n",
       "       12015. ,  8895.4,  8096.3,  7854.7,  7751.5,  9567.8,  7470.5,\n",
       "        6645.5,  6070.1,  5616. , 10912.7,  9956.4,  7209.3, 11990.4,\n",
       "        8700.4,  8444.8, 11123.7,  5691. ,  9105.6,  6666.1, 12928.1,\n",
       "        8290. ,  9171.2, 10556.5,  6161.2,  6864.3,  6023.8,  7952. ,\n",
       "        9658.9,  7045.5,  4014.7,  8367. ,  8678. ,  5628.6, 10812.4,\n",
       "        9185.6,  7477.1,  5371.8,  6452.2, 10929.7,  8471.2, 12108.4,\n",
       "        7304.1,  9706.1,  9576.5,  9508.3,  4477. ,  4619.6, 11717.3,\n",
       "        8936.1,  7859.9, 10045.6,  7809.7, 10449.2,  3538.6,  7854.1,\n",
       "        9638.2,  7392.2,  6932.3,  8606.4,  9383.6, 11054.3, 11920.3,\n",
       "        4896.1,  7278.8, 11803.7,  8181. ,  8848.5,  9711. ,  5102.5,\n",
       "       10434.7, 11333.7,  7099.4,  8251.8,  8064.7,  6548.8,  8402.1,\n",
       "        9549.7,  3551. , 10478.2, 10484.6, 12241.4,  9052.1,  4554.2,\n",
       "        9993.2,  5133.2,  9075.8,  6824. ,  9146.2,  4827.6,  8669.4,\n",
       "        6351.6,  9520. ,  7510.7,  5385.7,  7942.1,  8456.7,  7947.6,\n",
       "       10678.1, 10260.6, 12073.3, 10029.9,  3648.8,  9899.8, 12857.2,\n",
       "        9104.9,  7733.1,  9263.2,  8399.5,  9801.5, 10745. ,  8963.9,\n",
       "        8566. ,  3704.3,  5516.9,  8017.3,  8957.3, 11154.4,  8099.5,\n",
       "       11504.4, 12121.4,  6856.9,  3825.4,  9653.7, 10296.2,  9442.8,\n",
       "        8260.3, 10370.7,  9323.6,  9983.4, 10258.8, 11088.2, 10644.5,\n",
       "        5651.3,  9750.8, 11827.8,  8422.1, 13866. ,  9762. ,  6050. ,\n",
       "       11423.1, 11056.1,  9232.8,  4810.6, 12327. ,  6802.1, 10315. ,\n",
       "       11148.3, 10979.6,  9384.9,  7961.6, 13165.1,  7636. , 10350.4,\n",
       "        7214.3,  8165.1,  7187.5,  7069.7,  8529. ,  9765.8,  6854.8,\n",
       "        7361.1,  9865.4,  9451.8,  6351.5,  6401.2, 14041.6,  8583.9,\n",
       "        8729.5,  8964.4,  8949.5,  6465.9,  5700.5,  6103. ,  9105.1,\n",
       "        8490.6,  8190.1, 10291.3,  9146.2, 11406.3,  5759.3,  7300.1,\n",
       "        8410.2,  7006.9,  6012.1, 12345.6,  5909.7, 11283.5, 10370.2,\n",
       "        8494.7, 11392.1, 11465.1, 11762.1,  9158.9, 10226.1,  6910.4,\n",
       "        8643.4,  7824.6,  6718.8, 11973.2,  7209.7,  9966.2,  7480. ,\n",
       "        3327.4,  9865.8,  7852.6,  8605.6,  9476.5,  6109.2, 10308. ,\n",
       "        6980.5, 11213.7, 11074.6,  6235.1, 11925.5,  9741.8,  5115.3,\n",
       "        9493.6,  7254.7,  4668.8, 11990.4,  8130. ,  8781.9, 10962.3,\n",
       "        8795.5,  9373.9,  9124.6,  5774.8,  7241.6,  5897.7,  8344.2,\n",
       "        6103. , 11678.9,  8972.9, 13629.1,  5759.3,  6018.1,  5367.8,\n",
       "        3327.4,  9469.1,  8379.1, 11271.6,  4608.5,  6024.4,  7196.1,\n",
       "        7097.6,  9613.6, 11381.5,  8353.2,  5664.5,  7507.9,  9601. ,\n",
       "        5656.4,  6452.2,  7878.2,  9947.5,  8515.5,  6878. ,  6931. ,\n",
       "       10200.4, 11710.5,  5226.7,  8685.6, 12601.5,  3601.1, 10835.8,\n",
       "       11831.7,  8793.3,  7496. ,  9372. ,  9952.9,  6429.6,  9297.6,\n",
       "       11447.1,  7834.8,  8084.7,  9989.8,  9015.6,  4563.7,  8103.7,\n",
       "       12356.7,  4447.7,  7637.9, 10064.2,  7529.6, 10338.1,  9750. ,\n",
       "        6877.6,  7167.9,  5072.8,  8059. ,  9403.9,  9013.8,  8320.7,\n",
       "       13215.3,  7856.5,  9159.1,  9291.4,  5705.8,  9612.9,  8513.2,\n",
       "        8942.8,  9901.1,  6838. ,  9780.1, 10047.2,  5117.5, 11643.2,\n",
       "        5758.1,  7162.1, 10812.4, 12658.4, 13106.5, 12675.5,  8773.7,\n",
       "        7489.6,  9600.2, 10953.3,  7968.2, 13958.2,  8143.2,  8620.7,\n",
       "       10919.8, 11573.5,  5698.9,  5562.5, 10034.6,  7409. , 11148.1,\n",
       "       12913.7,  8690.4,  7230.1,  5543.5,  8199.6, 13378.2,  9132.1,\n",
       "        9733.3,  5664.5,  6307.2, 10542.5, 12731.5, 12004.6,  9693.2,\n",
       "        9413.8,  8931.4,  8764.1, 11348.9,  8433.5,  6544. ,  5325.2,\n",
       "       12791.9, 10367.4,  8362.4,  5053.2,  9574.6,  5401.3,  2976.9,\n",
       "        7517.7, 10521. ,  7003.6,  9960. , 11368.6, 10134.1,  5656.4,\n",
       "        9853.5,  9762. ,  8950.6,  8612.4,  6246. ])"
      ]
     },
     "execution_count": 134,
     "metadata": {},
     "output_type": "execute_result"
    }
   ],
   "source": [
    "# Predict the response variable for the test data\n",
    "y_predicted = rf_reg.predict(X_test)\n",
    "y_predicted"
   ]
  },
  {
   "cell_type": "code",
   "execution_count": 123,
   "id": "0695e108",
   "metadata": {
    "scrolled": true
   },
   "outputs": [
    {
     "name": "stdout",
     "output_type": "stream",
     "text": [
      "0.9984449363235307\n"
     ]
    }
   ],
   "source": [
    "#printing out the model score \n",
    "print(rf_reg.score(X_train, y_train))"
   ]
  },
  {
   "cell_type": "code",
   "execution_count": 136,
   "id": "b87f2bd8",
   "metadata": {},
   "outputs": [
    {
     "name": "stdout",
     "output_type": "stream",
     "text": [
      "MAE Score: 174.44934934934932\n",
      "MSE score: 52550.88707707707\n"
     ]
    }
   ],
   "source": [
    "# Evaluate the performance of the model\n",
    "print('MAE Score:', mean_absolute_error(y_test, y_predicted))\n",
    "print('MSE score:', mean_squared_error(y_test, y_predicted))"
   ]
  },
  {
   "cell_type": "code",
   "execution_count": 137,
   "id": "6720c1a0",
   "metadata": {},
   "outputs": [
    {
     "data": {
      "image/png": "[encoded data removed]",
      "text/plain": [
       "<Figure size 432x288 with 1 Axes>"
      ]
     },
     "metadata": {},
     "output_type": "display_data"
    }
   ],
   "source": [
    "#visualizing the comparison between test and regression values\n",
    "make_plot(y_test, y_predicted)"
   ]
  },
  {
   "cell_type": "code",
   "execution_count": 126,
   "id": "0637119d",
   "metadata": {
    "scrolled": true
   },
   "outputs": [
    {
     "data": {
      "text/plain": [
       "array([0.43245216, 0.00471731, 0.01114917, 0.00883148, 0.01462707,\n",
       "       0.19731408, 0.00692974, 0.11352989, 0.1757687 , 0.00885522,\n",
       "       0.02582516])"
      ]
     },
     "execution_count": 126,
     "metadata": {},
     "output_type": "execute_result"
    }
   ],
   "source": [
    "#get feature importance of random forest model\n",
    "rf_reg.feature_importances_"
   ]
  },
  {
   "cell_type": "code",
   "execution_count": 138,
   "id": "aeb0fdee",
   "metadata": {},
   "outputs": [
    {
     "data": {
      "text/plain": [
       "Index(['room', 'bathroom', 'kitchen', 'french_door', 'backyard', 'furnished',\n",
       "       'green_paint', 'solar_power', 'woodfloor', 'qlm_security',\n",
       "       'club_access', 'price'],\n",
       "      dtype='object')"
      ]
     },
     "execution_count": 138,
     "metadata": {},
     "output_type": "execute_result"
    }
   ],
   "source": [
    "#viewing the columns of the test dataset\n",
    "train.columns"
   ]
  },
  {
   "cell_type": "code",
   "execution_count": 139,
   "id": "4ae674bd",
   "metadata": {},
   "outputs": [
    {
     "data": {
      "text/plain": [
       "[(0.43245215867741243, 'room'),\n",
       " (0.1973140817873771, 'furnished'),\n",
       " (0.17576870392824928, 'woodfloor'),\n",
       " (0.11352988879682278, 'solar_power'),\n",
       " (0.02582516301150733, 'club_access'),\n",
       " (0.014627074384342692, 'backyard'),\n",
       " (0.011149169968277051, 'kitchen'),\n",
       " (0.008855218553140344, 'qlm_security'),\n",
       " (0.008831483386509695, 'french_door'),\n",
       " (0.006929742670992839, 'green_paint'),\n",
       " (0.004717314835368573, 'bathroom')]"
      ]
     },
     "execution_count": 139,
     "metadata": {},
     "output_type": "execute_result"
    }
   ],
   "source": [
    "#concatenate the train dataset columns with feature importances and sort \n",
    "imp_scores = zip(rf_reg.feature_importances_, train.columns)\n",
    "sorted(list(imp_scores), reverse=True)"
   ]
  },
  {
   "cell_type": "code",
   "execution_count": 129,
   "id": "2306129c",
   "metadata": {},
   "outputs": [
    {
     "name": "stdout",
     "output_type": "stream",
     "text": [
      "0.43245215867741243 room\n",
      "0.1973140817873771 furnished\n",
      "0.17576870392824928 woodfloor\n",
      "0.11352988879682278 solar_power\n",
      "0.02582516301150733 club_access\n",
      "0.014627074384342692 backyard\n",
      "0.011149169968277051 kitchen\n",
      "0.008855218553140344 qlm_security\n",
      "0.008831483386509695 french_door\n",
      "0.006929742670992839 green_paint\n",
      "0.004717314835368573 bathroom\n"
     ]
    }
   ],
   "source": [
    "rf_importances = rf_reg.feature_importances_\n",
    "rf_reg.feature_names_in_\n",
    "ranks_and_features = zip(rf_importances, rf_reg.feature_names_in_)\n",
    "ranks_and_features = sorted(ranks_and_features,reverse=True)\n",
    "for x, y in ranks_and_features:\n",
    "    print(x, y)"
   ]
  },
  {
   "cell_type": "code",
   "execution_count": 130,
   "id": "dc8185b7",
   "metadata": {},
   "outputs": [
    {
     "data": {
      "text/plain": [
       "[(0.43245215867741243, 'room'),\n",
       " (0.1973140817873771, 'furnished'),\n",
       " (0.17576870392824928, 'woodfloor'),\n",
       " (0.11352988879682278, 'solar_power'),\n",
       " (0.02582516301150733, 'club_access'),\n",
       " (0.014627074384342692, 'backyard'),\n",
       " (0.011149169968277051, 'kitchen'),\n",
       " (0.008855218553140344, 'qlm_security'),\n",
       " (0.008831483386509695, 'french_door'),\n",
       " (0.006929742670992839, 'green_paint'),\n",
       " (0.004717314835368573, 'bathroom')]"
      ]
     },
     "execution_count": 130,
     "metadata": {},
     "output_type": "execute_result"
    }
   ],
   "source": [
    "ranks_and_features"
   ]
  },
  {
   "cell_type": "code",
   "execution_count": 131,
   "id": "cac90df5",
   "metadata": {},
   "outputs": [
    {
     "data": {
      "text/plain": [
       "['bathroom',\n",
       " 'green_paint',\n",
       " 'french_door',\n",
       " 'qlm_security',\n",
       " 'kitchen',\n",
       " 'backyard',\n",
       " 'club_access',\n",
       " 'solar_power',\n",
       " 'woodfloor',\n",
       " 'furnished',\n",
       " 'room']"
      ]
     },
     "execution_count": 131,
     "metadata": {},
     "output_type": "execute_result"
    }
   ],
   "source": [
    "keys = [k[1] for k in ranks_and_features ] [::-1]\n",
    "keys"
   ]
  },
  {
   "cell_type": "code",
   "execution_count": 132,
   "id": "f70bed6f",
   "metadata": {},
   "outputs": [
    {
     "data": {
      "text/plain": [
       "[0.004717314835368573,\n",
       " 0.006929742670992839,\n",
       " 0.008831483386509695,\n",
       " 0.008855218553140344,\n",
       " 0.011149169968277051,\n",
       " 0.014627074384342692,\n",
       " 0.02582516301150733,\n",
       " 0.11352988879682278,\n",
       " 0.17576870392824928,\n",
       " 0.1973140817873771,\n",
       " 0.43245215867741243]"
      ]
     },
     "execution_count": 132,
     "metadata": {},
     "output_type": "execute_result"
    }
   ],
   "source": [
    "values = [k[0] for k in ranks_and_features ][::-1]\n",
    "values"
   ]
  },
  {
   "cell_type": "code",
   "execution_count": 133,
   "id": "02df9cba",
   "metadata": {},
   "outputs": [
    {
     "data": {
      "text/plain": [
       "<BarContainer object of 11 artists>"
      ]
     },
     "execution_count": 133,
     "metadata": {},
     "output_type": "execute_result"
    },
    {
     "data": {
      "image/png": "[encoded data removed]",
      "text/plain": [
       "<Figure size 432x288 with 1 Axes>"
      ]
     },
     "metadata": {},
     "output_type": "display_data"
    }
   ],
   "source": [
    "#visualizing the feature importances\n",
    "plt.barh(keys, values)\n"
   ]
  },
  {
   "cell_type": "code",
   "execution_count": null,
   "id": "c919f183",
   "metadata": {},
   "outputs": [],
   "source": []
  }
 ],
 "metadata": {
  "kernelspec": {
   "display_name": "Python 3 (ipykernel)",
   "language": "python",
   "name": "python3"
  },
  "language_info": {
   "codemirror_mode": {
    "name": "ipython",
    "version": 3
   },
   "file_extension": ".py",
   "mimetype": "text/x-python",
   "name": "python",
   "nbconvert_exporter": "python",
   "pygments_lexer": "ipython3",
   "version": "3.11.4"
  }
 },
 "nbformat": 4,
 "nbformat_minor": 5
}
